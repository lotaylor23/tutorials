{
 "cells": [
  {
   "cell_type": "code",
   "execution_count": null,
   "id": "3f16b384",
   "metadata": {},
   "outputs": [],
   "source": [
    "import numpy as np\n",
    "import pandas as pd\n",
    "from sklearn.decomposition import NMF\n",
    "from sklearn.preprocessing import MinMaxScaler\n",
    "\n",
    "# Sample multiomics data (replace with your actual data)\n",
    "# Each row represents a gene, and each column represents a sample\n",
    "# Data should be non-negative\n",
    "data_rna = pd.DataFrame(np.random.rand(100, 50), index=['gene_{}'.format(i) for i in range(100)])\n",
    "data_methylation = pd.DataFrame(np.random.rand(100, 50), index=['gene_{}'.format(i) for i in range(100)])\n",
    "data_protein = pd.DataFrame(np.random.rand(100, 50), index=['gene_{}'.format(i) for i in range(100)])\n",
    "\n",
    "# Combine multiomics data\n",
    "data_combined = pd.concat([data_rna, data_methylation, data_protein], axis=1)\n",
    "\n",
    "# Data normalization\n",
    "scaler = MinMaxScaler()\n",
    "data_normalized = scaler.fit_transform(data_combined)\n",
    "data_normalized = pd.DataFrame(data_normalized, index=data_combined.index, columns=data_combined.columns)\n",
    "\n",
    "# Apply NMF\n",
    "n_components = 10  # Number of components to extract\n",
    "nmf = NMF(n_components=n_components, init='nndsvda', random_state=0, max_iter=500)\n",
    "W = nmf.fit_transform(data_normalized)\n",
    "H = nmf.components_\n",
    "\n",
    "# Create dataframes for W and H\n",
    "W_df = pd.DataFrame(W, index=data_normalized.index, columns=['NMF_{}'.format(i) for i in range(n_components)])\n",
    "H_df = pd.DataFrame(H, index=['NMF_{}'.format(i) for i in range(n_components)], columns=data_normalized.columns)\n",
    "\n",
    "# Print results\n",
    "print(\"W (Sample-component matrix):\")\n",
    "print(W_df.head())\n",
    "print(\"\\nH (Component-feature matrix):\")\n",
    "print(H_df.head())"
   ]
  }
 ],
 "metadata": {
  "kernelspec": {
   "display_name": "Python 3 (ipykernel)",
   "language": "python",
   "name": "python3"
  },
  "language_info": {
   "codemirror_mode": {
    "name": "ipython",
    "version": 3
   },
   "file_extension": ".py",
   "mimetype": "text/x-python",
   "name": "python",
   "nbconvert_exporter": "python",
   "pygments_lexer": "ipython3",
   "version": "3.10.6"
  }
 },
 "nbformat": 4,
 "nbformat_minor": 5
}
