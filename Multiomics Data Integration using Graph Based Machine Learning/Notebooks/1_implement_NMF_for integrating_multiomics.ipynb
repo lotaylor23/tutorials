{
 "cells": [
  {
   "cell_type": "code",
   "execution_count": null,
   "id": "cd427c01",
   "metadata": {},
   "outputs": [],
   "source": [
    "import numpy as np\n",
    "import pandas as pd\n",
    "from sklearn.decomposition import NMF\n",
    "from sklearn.preprocessing import MinMaxScaler\n"
   ]
  },
  {
   "cell_type": "code",
   "execution_count": null,
   "id": "ccbbe35c",
   "metadata": {},
   "outputs": [],
   "source": [
    "\n",
    "# Sample multiomics data (replace with your actual data)\n",
    "# Each row represents a gene, and each column represents a sample\n",
    "# Data should be non-negative\n",
    "\n",
    "data = pd.read_csv('filepath/CLL_data_mRNA.csv')\n",
    "data2 = pd.read_csv('filepath/CLL_data_Methylation.csv')\n",
    "#data_rna = pd.DataFrame(np.random.rand(136, 50), index=['gene_{}'.format(i) for i in range(136)])\n",
    "data_rna = pd.DataFrame(data, index=['gene_{}'.format(i) for i in range(136)])\n",
    "#data_methylation = pd.DataFrame(np.random.rand(136, 50), index=['gene_{}'.format(i) for i in range(136)])\n",
    "data_methylation = pd.DataFrame(data2, index=['gene_{}'.format(i) for i in range(136)])\n",
    "data_protein = pd.DataFrame(np.random.rand(136, 50), index=['gene_{}'.format(i) for i in range(136)])\n",
    "#data_protein = pd.DataFrame(data, index=['gene_{}'.format(i) for i in range(len(data.columns))])\n"
   ]
  },
  {
   "cell_type": "code",
   "execution_count": null,
   "id": "8c57a1b7",
   "metadata": {},
   "outputs": [],
   "source": [
    "\n",
    "###potential nans can be dropped before here:\n",
    "# Drop columns with any NaN values\n",
    "data_rna = data_rna.dropna(axis=1)\n",
    "data_methylation = data_methylation.dropna(axis=1)\n",
    "data_protein = data_protein.dropna(axis=1)\n"
   ]
  },
  {
   "cell_type": "code",
   "execution_count": null,
   "id": "a40b7a05",
   "metadata": {},
   "outputs": [],
   "source": [
    "\n",
    "# Combine multiomics data\n",
    "data_combined = pd.concat([data_rna, data_methylation, data_protein], axis=1)\n",
    "\n"
   ]
  },
  {
   "cell_type": "code",
   "execution_count": null,
   "id": "2afc4e32",
   "metadata": {},
   "outputs": [],
   "source": [
    "# Data normalization\n",
    "scaler = MinMaxScaler()\n",
    "data_normalized = scaler.fit_transform(data_combined)\n",
    "data_normalized = pd.DataFrame(data_normalized, index=data_combined.index, columns=data_combined.columns)\n"
   ]
  },
  {
   "cell_type": "code",
   "execution_count": null,
   "id": "618d9da5",
   "metadata": {},
   "outputs": [],
   "source": [
    "\n",
    "# Apply NMF\n",
    "n_components = 10  # Number of components to extract\n",
    "nmf = NMF(n_components=n_components, init='nndsvda', random_state=0, max_iter=500)\n",
    "W = nmf.fit_transform(data_normalized)\n",
    "H = nmf.components_\n"
   ]
  },
  {
   "cell_type": "code",
   "execution_count": null,
   "id": "c7282581",
   "metadata": {},
   "outputs": [],
   "source": [
    "\n",
    "# Create dataframes for W and H\n",
    "W_df = pd.DataFrame(W, index=data_normalized.index, columns=['NMF_{}'.format(i) for i in range(n_components)])\n",
    "H_df = pd.DataFrame(H, index=['NMF_{}'.format(i) for i in range(n_components)], columns=data_normalized.columns)\n"
   ]
  },
  {
   "cell_type": "code",
   "execution_count": null,
   "id": "a0adf8a6",
   "metadata": {},
   "outputs": [],
   "source": [
    "\n",
    "# Print results\n",
    "print(\"W (Sample-component matrix):\")\n",
    "print(W_df.head())\n",
    "print(\"\\nH (Component-feature matrix):\")\n",
    "print(H_df.head())"
   ]
  }
 ],
 "metadata": {
  "kernelspec": {
   "display_name": "Python 3 (ipykernel)",
   "language": "python",
   "name": "python3"
  },
  "language_info": {
   "codemirror_mode": {
    "name": "ipython",
    "version": 3
   },
   "file_extension": ".py",
   "mimetype": "text/x-python",
   "name": "python",
   "nbconvert_exporter": "python",
   "pygments_lexer": "ipython3",
   "version": "3.10.6"
  }
 },
 "nbformat": 4,
 "nbformat_minor": 5
}
