{
 "cells": [
  {
   "cell_type": "code",
   "execution_count": null,
   "id": "c5568ba0",
   "metadata": {},
   "outputs": [],
   "source": [
    "import pandas as pd\n",
    "import numpy as np\n"
   ]
  },
  {
   "cell_type": "code",
   "execution_count": null,
   "id": "5b222bfd",
   "metadata": {},
   "outputs": [],
   "source": [
    "\n",
    "# Assuming H_df from the first code is used for biomarker discovery\n",
    "# H_df is the component-feature matrix (rows = components, columns = features)\n",
    "\n",
    "# Function to identify top biomarkers for each NMF component\n",
    "def discover_biomarkers(H_df, top_n=10):\n",
    "    biomarkers = {}\n",
    "    \n",
    "    # Loop through each component and find the top features\n",
    "    for component in H_df.index:\n",
    "        # Sort the features by the weight (importance) in descending order\n",
    "        sorted_features = H_df.loc[component].sort_values(ascending=False)\n",
    "        \n",
    "        # Select the top 'n' biomarkers for this component\n",
    "        top_biomarkers = sorted_features.head(top_n)\n",
    "        \n",
    "        biomarkers[component] = top_biomarkers\n",
    "        \n",
    "    return biomarkers\n",
    "\n",
    "# Discover top biomarkers for each component\n",
    "top_biomarkers = discover_biomarkers(H_df, top_n=10)\n",
    "\n"
   ]
  },
  {
   "cell_type": "code",
   "execution_count": null,
   "id": "b7400437",
   "metadata": {},
   "outputs": [],
   "source": [
    "# Print the top biomarkers for each component\n",
    "for component, biomarkers_list in top_biomarkers.items():\n",
    "    print(f\"Component {component} - Top Biomarkers:\")\n",
    "    print(biomarkers_list)\n",
    "    print(\"\\n\")"
   ]
  }
 ],
 "metadata": {
  "kernelspec": {
   "display_name": "Python 3 (ipykernel)",
   "language": "python",
   "name": "python3"
  },
  "language_info": {
   "codemirror_mode": {
    "name": "ipython",
    "version": 3
   },
   "file_extension": ".py",
   "mimetype": "text/x-python",
   "name": "python",
   "nbconvert_exporter": "python",
   "pygments_lexer": "ipython3",
   "version": "3.10.6"
  }
 },
 "nbformat": 4,
 "nbformat_minor": 5
}
