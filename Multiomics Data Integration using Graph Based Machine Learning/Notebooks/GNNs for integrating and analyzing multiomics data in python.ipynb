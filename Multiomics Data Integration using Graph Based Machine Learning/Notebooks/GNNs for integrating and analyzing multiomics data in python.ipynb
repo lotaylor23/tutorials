{
 "cells": [
  {
   "cell_type": "code",
   "execution_count": null,
   "id": "eed6cab4",
   "metadata": {},
   "outputs": [],
   "source": [
    "import networkx as nx\n",
    "import numpy as np\n",
    "import pandas as pd\n",
    "\n",
    "# Sample multiomics data (replace with your actual data)\n",
    "gene_expression = pd.DataFrame({'Gene': ['A', 'B', 'C'], 'Expression': [10, 5, 12]})\n",
    "protein_interaction = pd.DataFrame({'Protein1': ['A', 'B', 'A'], 'Protein2': ['B', 'C', 'C']})\n",
    "\n",
    "# Create a graph\n",
    "graph = nx.Graph()\n",
    "\n",
    "# Add nodes with gene expression as features\n",
    "for index, row in gene_expression.iterrows():\n",
    "    graph.add_node(row['Gene'], expression=row['Expression'])\n",
    "\n",
    "# Add edges from protein interaction data\n",
    "for index, row in protein_interaction.iterrows():\n",
    "    graph.add_edge(row['Protein1'], row['Protein2'])"
   ]
  },
  {
   "cell_type": "code",
   "execution_count": null,
   "id": "c003ee4b",
   "metadata": {},
   "outputs": [],
   "source": [
    "import torch\n",
    "import torch.nn.functional as F\n",
    "from torch_geometric.nn import GCNConv\n",
    "from torch_geometric.data import Data\n",
    "\n",
    "# Convert NetworkX graph to PyTorch Geometric Data\n",
    "edge_index = torch.tensor(list(graph.edges)).t().contiguous()\n",
    "node_features = torch.tensor([graph.nodes[node]['expression'] for node in graph.nodes]).unsqueeze(1).float() # Ensure correct shape\n",
    "data = Data(x=node_features, edge_index=edge_index)\n",
    "\n",
    "# Define a simple GCN model\n",
    "class GCN(torch.nn.Module):\n",
    "    def __init__(self, num_node_features, hidden_channels, num_classes):\n",
    "        super(GCN, self).__init__()\n",
    "        self.conv1 = GCNConv(num_node_features, hidden_channels)\n",
    "        self.conv2 = GCNConv(hidden_channels, num_classes)\n",
    "\n",
    "    def forward(self, data):\n",
    "        x, edge_index = data.x, data.edge_index\n",
    "\n",
    "        x = self.conv1(x, edge_index)\n",
    "        x = F.relu(x)\n",
    "        x = F.dropout(x, training=self.training)\n",
    "        x = self.conv2(x, edge_index)\n",
    "\n",
    "        return F.log_softmax(x, dim=1)\n",
    "\n",
    "# Instantiate and train the model (example for node classification)\n",
    "model = GCN(num_node_features=1, hidden_channels=16, num_classes=2) # Adjust num_classes based on task\n",
    "optimizer = torch.optim.Adam(model.parameters(), lr=0.01)\n",
    "\n",
    "# Create dummy labels for demonstration \n",
    "labels = torch.randint(0, 2, (data.num_nodes,))\n",
    "data.y = labels\n",
    "\n",
    "for epoch in range(200):\n",
    "    optimizer.zero_grad()\n",
    "    out = model(data)\n",
    "    loss = F.nll_loss(out, data.y)\n",
    "    loss.backward()\n",
    "    optimizer.step()\n",
    "    print(f'Epoch {epoch}, Loss: {loss.item()}')"
   ]
  }
 ],
 "metadata": {
  "kernelspec": {
   "display_name": "Python 3 (ipykernel)",
   "language": "python",
   "name": "python3"
  },
  "language_info": {
   "codemirror_mode": {
    "name": "ipython",
    "version": 3
   },
   "file_extension": ".py",
   "mimetype": "text/x-python",
   "name": "python",
   "nbconvert_exporter": "python",
   "pygments_lexer": "ipython3",
   "version": "3.10.6"
  }
 },
 "nbformat": 4,
 "nbformat_minor": 5
}
