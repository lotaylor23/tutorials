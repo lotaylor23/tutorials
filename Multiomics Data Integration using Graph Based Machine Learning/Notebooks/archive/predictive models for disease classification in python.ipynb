import pandas as pd
from sklearn.model_selection import train_test_split
from sklearn.ensemble import RandomForestClassifier
from sklearn.metrics import accuracy_score, classification_report

# Assuming W_df from the first code is used as X (features)
# Create some dummy labels for demonstration purposes (replace with actual labels)
# Ensure the length of labels matches the number of rows in W_df
y = pd.Series([1 if i % 2 == 0 else 0 for i in range(W_df.shape[0])], name='diagnosis')

# Prepare the data
X = W_df  # The matrix W_df (transformed features from NMF)
X_train, X_test, y_train, y_test = train_test_split(X, y, test_size=0.2, random_state=42)

# Train the model
model = RandomForestClassifier(n_estimators=100, random_state=42)
model.fit(X_train, y_train)

# Evaluate the model
y_pred = model.predict(X_test)
accuracy = accuracy_score(y_test, y_pred)
report = classification_report(y_test, y_pred)

print(f'Accuracy: {accuracy}')
print(f'Classification Report:\n{report}')
