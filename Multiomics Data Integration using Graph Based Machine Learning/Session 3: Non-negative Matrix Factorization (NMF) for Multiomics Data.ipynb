{
 "cells": [
  {
   "cell_type": "markdown",
   "id": "25a95cd4",
   "metadata": {},
   "source": [
    "# ISCB-Africa ASBCB 2025\n",
    "\n",
    "## Lagoon Beach Hotel & Conference Center, Cape Town, South Africa\n",
    "\n",
    "**Date of the session:** April 10, 2025\n",
    "\n",
    "**Instructor(s)/Affiliation(s):** Loni Taylor, Meharry Medical College, Nashville, TN, USA. Bishnu Sarker, Meharry Medical College, Nashville, TN, USA. Animesh Acharjee, University of Birmingham, UK."
   ]
  },
  {
   "cell_type": "markdown",
   "id": "09bbee4f",
   "metadata": {},
   "source": [
    "## 3a: Implementing Non-negative Matrix Factorization (NMF)\n",
    "\n",
    "### Overview:\n",
    "This section will dive deeper into Non-negative Matrix Factorization (NMF), explaining how it can be used to decompose complex multiomics datasets into meaningful components. NMF’s role in identifying latent biological factors and reducing the complexity of data will be discussed in the context of multiomics.\n",
    "\n",
    "#### Topics:\n",
    "\n",
    "+ Principles of NMF and its applications in biological data\n",
    "+ How NMF helps in dimensionality reduction and feature extraction\n",
    "+ Sample demonstration using NMF in omics data analysis"
   ]
  },
  {
   "cell_type": "markdown",
   "id": "50fca125",
   "metadata": {},
   "source": [
    "### Non-negative Matrix Factorization (NMF):\n",
    "\n",
    "NMF is a matrix factorization technique that helps uncover hidden patterns in complex datasets by decomposing data into non-negative components. NMF decomposes a non-negative matrix into two non-negative matrices—one representing the relationship between samples and the latent components, and the other representing the relationship between the latent components and the original features.\n",
    "\n",
    "It is particularly useful in multiomics, where it can identify latent factors that represent biological processes shared across different layers of omic data. By applying NMF, we can reduce the dimensionality of multi-omics data, making it easier to analyze and visualize complex biological relationships. In the context of multiomics data, NMF can uncover shared patterns across different omics layers, reducing the complexity of the data and enabling further analysis such as clustering, classification, and feature extraction.\n",
    "\n"
   ]
  },
  {
   "cell_type": "markdown",
   "id": "508fe656",
   "metadata": {},
   "source": [
    "### Key Characteristics of NMF:\n",
    "\n",
    "**1. Unsupervised Learning:** NMF is unsupervised because it doesn't require labeled data. It seeks to find hidden patterns or structures in the data based on the data's intrinsic properties.\n",
    "\n",
    "**2. Factorization:** NMF works by factorizing a non-negative matrix 𝑉 into two smaller non-negative matrices 𝑊 and 𝐻, such that:\n",
    "\n",
    "                        𝑉 ≈ 𝑊 × 𝐻\n",
    "\n",
    "+ 𝑉 is the original data matrix (for example, gene expression values or document-term matrix).\n",
    "\n",
    "+ 𝑊 contains the \"basis\" or \"components,\" often interpreted as the features or patterns.\n",
    "\n",
    "+ 𝐻 contains the \"coefficients\" or \"activations,\" showing how strongly each component is present in the original data.\n",
    "\n",
    "**3. Non-Negativity Constraint:** The key feature of NMF is that it enforces non-negative values in the factorization. This is useful in biological data or image processing, where negative values may not make sense or may not have an interpretable meaning.\n",
    "\n",
    "**4. Dimensionality Reduction:** NMF is often used for reducing the dimensionality of the data while maintaining interpretability. The lower-dimensional representations (in 𝑊 and 𝐻) can reveal latent patterns or clusters in the data.\n"
   ]
  },
  {
   "cell_type": "markdown",
   "id": "a1fa8ab3",
   "metadata": {},
   "source": [
    "### Applications:\n",
    "\n",
    "+ Gene Expression Data: NMF is commonly used to uncover hidden patterns in gene expression data, identifying gene signatures or latent biological processes.\n",
    "\n",
    "+ Text Mining: In natural language processing, NMF can be applied to decompose document-term matrices to uncover topics (similar to Latent Dirichlet Allocation, LDA).\n",
    "\n",
    "+ Image Processing: NMF is also used for image compression and feature extraction, where the matrix could represent pixel intensities.\n",
    "\n",
    "+ Multiomics Integration: NMF can be applied to integrate and uncover common features in multiple omics layers (e.g., genomics, transcriptomics, and proteomics)."
   ]
  },
  {
   "cell_type": "markdown",
   "id": "e2a11b18",
   "metadata": {},
   "source": [
    "The following remainder of the notebook demonstrates how to implement NMF for integrating multiomics data, such as RNA expression, methylation, and protein expression data.\n",
    "Download and follow this code notebook to see a simple process of integrating and analyzing multiomics data in python.\n"
   ]
  },
  {
   "cell_type": "markdown",
   "id": "f6c274a3",
   "metadata": {},
   "source": [
    "### **Applying Non-negative Matrix Factorization (NMF) for Multiomics Data Integration**\n"
   ]
  },
  {
   "cell_type": "markdown",
   "id": "0e4e87f0",
   "metadata": {},
   "source": [
    "#### Implementing NMF for Multiomics Integration"
   ]
  },
  {
   "cell_type": "markdown",
   "id": "7873f11c",
   "metadata": {},
   "source": [
    "We begin with our basic library imports. Pandas, numpy and scikit-learn for our data analysis, scientific computing, and machine learning needs."
   ]
  },
  {
   "cell_type": "markdown",
   "id": "64b6df27",
   "metadata": {},
   "source": [
    "#### Pandas\n",
    "\n",
    "+ Purpose: Data manipulation and analysis.\n",
    "\n",
    "+ Key Features:\n",
    "\n",
    "    + Provides DataFrame and Series objects for handling data.\n",
    "\n",
    "    + Easy handling of missing data.\n",
    "\n",
    "    + Supports merging, grouping, and reshaping data.\n",
    "\n",
    "    + Ideal for data cleaning, transformation, and exploration.\n",
    "\n",
    "+ Common Use: Loading data from various sources (CSV, Excel, SQL), data wrangling (cleaning, reshaping, etc.), and exploratory data analysis (EDA)."
   ]
  },
  {
   "cell_type": "markdown",
   "id": "4df8fb92",
   "metadata": {},
   "source": [
    "#### NumPy\n",
    "+ Purpose: Numerical computations and array manipulation.\n",
    "\n",
    "+ Key Features:\n",
    "\n",
    "    + Provides support for multi-dimensional arrays and matrices.\n",
    "\n",
    "    + Fast array operations (vectorized operations).\n",
    "\n",
    "    + Supports linear algebra, random sampling, and Fourier transforms.\n",
    "\n",
    "+ Common Use: High-performance operations on large arrays or matrices, scientific computing, and numerical analysis."
   ]
  },
  {
   "cell_type": "markdown",
   "id": "516750ae",
   "metadata": {},
   "source": [
    "#### Scikit-learn\n",
    "+ Purpose: Machine learning.\n",
    "\n",
    "+ Key Features:\n",
    "\n",
    "    + A library for supervised and unsupervised learning.\n",
    "\n",
    "    + Provides tools for model training, evaluation, and cross-validation.\n",
    "\n",
    "    + Supports a wide range of algorithms, including classification, regression, clustering, and dimensionality reduction.\n",
    "\n",
    "    + Includes utilities for preprocessing, such as scaling, encoding, and splitting data.\n",
    "\n",
    "+ Common Use: Building and evaluating machine learning models, performing tasks like classification, regression, clustering, and feature selection."
   ]
  },
  {
   "cell_type": "code",
   "execution_count": 1,
   "id": "cd427c01",
   "metadata": {},
   "outputs": [],
   "source": [
    "import numpy as np\n",
    "import pandas as pd\n",
    "from sklearn.decomposition import NMF\n",
    "from sklearn.preprocessing import MinMaxScaler\n"
   ]
  },
  {
   "cell_type": "code",
   "execution_count": 2,
   "id": "ccbbe35c",
   "metadata": {},
   "outputs": [],
   "source": [
    "# Sample multiomics data (replace with your actual data/filepath)\n",
    "# Each row represents a gene, and each column represents a sample\n",
    "# Data should be non-negative\n",
    "\n",
    "data = pd.read_csv('filepath/CLL_data_mRNA.csv')\n",
    "data2 = pd.read_csv('filepath/CLL_data_Methylation.csv')\n",
    "#data_rna = pd.DataFrame(np.random.rand(136, 50), index=['gene_{}'.format(i) for i in range(136)])\n",
    "data_rna = pd.DataFrame(data, index=['gene_{}'.format(i) for i in range(136)])\n",
    "#data_methylation = pd.DataFrame(np.random.rand(136, 50), index=['gene_{}'.format(i) for i in range(136)])\n",
    "data_methylation = pd.DataFrame(data2, index=['gene_{}'.format(i) for i in range(136)])\n",
    "data_protein = pd.DataFrame(np.random.rand(136, 50), index=['gene_{}'.format(i) for i in range(136)])\n",
    "#data_protein = pd.DataFrame(data, index=['gene_{}'.format(i) for i in range(len(data.columns))])"
   ]
  },
  {
   "cell_type": "code",
   "execution_count": 3,
   "id": "8c57a1b7",
   "metadata": {},
   "outputs": [],
   "source": [
    "###potential nans can be dropped before here:\n",
    "# Drop columns with any NaN values\n",
    "data_rna = data_rna.dropna(axis=1)\n",
    "data_methylation = data_methylation.dropna(axis=1)\n",
    "data_protein = data_protein.dropna(axis=1)"
   ]
  },
  {
   "cell_type": "code",
   "execution_count": 4,
   "id": "a40b7a05",
   "metadata": {},
   "outputs": [],
   "source": [
    "# Combine multiomics data\n",
    "data_combined = pd.concat([data_rna, data_methylation, data_protein], axis=1)"
   ]
  },
  {
   "cell_type": "markdown",
   "id": "5a87d2ee",
   "metadata": {},
   "source": [
    "#### Explanation:\n",
    "<br>\n",
    "Data Preparation:\n",
    "<br>\n",
    "The example data represents multi-omics data for RNA expression, methylation, and protein levels. These datasets are combined into a single matrix (data_combined), where rows represent genes and columns represent samples. Replace the sample data with your actual multiomics data."
   ]
  },
  {
   "cell_type": "markdown",
   "id": "161dbe36",
   "metadata": {},
   "source": [
    "Normalization:<br>\n",
    "Since NMF requires non-negative values, it's crucial to scale the data. We use MinMaxScaler to normalize the data within the range [0, 1].\n"
   ]
  },
  {
   "cell_type": "code",
   "execution_count": 5,
   "id": "2afc4e32",
   "metadata": {},
   "outputs": [],
   "source": [
    "# Data normalization\n",
    "scaler = MinMaxScaler()\n",
    "data_normalized = scaler.fit_transform(data_combined)\n",
    "data_normalized = pd.DataFrame(data_normalized, index=data_combined.index, columns=data_combined.columns)"
   ]
  },
  {
   "cell_type": "markdown",
   "id": "4b4d2119",
   "metadata": {},
   "source": [
    "Applying NMF:<br>\n",
    "The NMF algorithm is applied with the specified number of components (in this case, 10). The model decomposes the normalized data matrix into two non-negative matrices: \n",
    "+ W (sample-component matrix)<br> \n",
    "and\n",
    "+ H (component-feature matrix)."
   ]
  },
  {
   "cell_type": "code",
   "execution_count": 6,
   "id": "618d9da5",
   "metadata": {},
   "outputs": [
    {
     "name": "stderr",
     "output_type": "stream",
     "text": [
      "If you see a similar message to this you can just increase the iterations: _nmf.py:1665: ConvergenceWarning: Maximum number of iterations 500 reached. Increase it to improve convergence. warnings.warn"
     ]
    }
   ],
   "source": [
    "# Apply NMF\n",
    "n_components = 10  # Number of components to extract\n",
    "nmf = NMF(n_components=n_components, init='nndsvda', random_state=0, max_iter=500)\n",
    "W = nmf.fit_transform(data_normalized)\n",
    "H = nmf.components_"
   ]
  },
  {
   "cell_type": "markdown",
   "id": "b57e4129",
   "metadata": {},
   "source": [
    "W captures the association between samples and NMF components (latent factors), while H captures the contribution of each original feature to each NMF component."
   ]
  },
  {
   "cell_type": "code",
   "execution_count": 7,
   "id": "c7282581",
   "metadata": {},
   "outputs": [],
   "source": [
    "# Create dataframes for W and H\n",
    "W_df = pd.DataFrame(W, index=data_normalized.index, columns=['NMF_{}'.format(i) for i in range(n_components)])\n",
    "H_df = pd.DataFrame(H, index=['NMF_{}'.format(i) for i in range(n_components)], columns=data_normalized.columns)\n"
   ]
  },
  {
   "cell_type": "code",
   "execution_count": 8,
   "id": "a0adf8a6",
   "metadata": {},
   "outputs": [
    {
     "name": "stdout",
     "output_type": "stream",
     "text": [
      "W (Sample-component matrix):\n",
      "           NMF_0     NMF_1     NMF_2     NMF_3     NMF_4     NMF_5     NMF_6  \\\n",
      "gene_0  0.018561  0.000000  0.071710  0.074608  0.030406  0.000000  0.073465   \n",
      "gene_1  0.010157  0.001872  0.080459  0.103289  0.101455  0.000000  0.074791   \n",
      "gene_2  0.009635  0.002250  0.086954  0.079768  0.015968  0.101549  0.062943   \n",
      "gene_3  0.009095  0.001158  0.103489  0.000000  0.290887  0.138927  0.000000   \n",
      "gene_4  0.005647  0.000853  0.149064  0.089072  0.128870  0.067688  0.136676   \n",
      "\n",
      "           NMF_7     NMF_8     NMF_9  \n",
      "gene_0  0.435539  0.234751  0.108511  \n",
      "gene_1  0.186611  0.051346  0.042895  \n",
      "gene_2  0.013761  0.000000  0.360593  \n",
      "gene_3  0.146690  0.404938  0.123772  \n",
      "gene_4  0.000000  0.170508  0.000000  \n",
      "\n",
      "H (Component-feature matrix):\n",
      "             0          1         2          3         4          5   \\\n",
      "NMF_0  9.080151   0.000000  0.000000   0.000000  0.000000   0.000000   \n",
      "NMF_1  5.832292  32.436065  0.000000  22.605456  3.197621  55.064605   \n",
      "NMF_2  1.426999   0.729887  1.392062   1.429244  2.367231   4.633690   \n",
      "NMF_3  0.007482   0.000000  0.818949   2.235459  0.000000   1.103992   \n",
      "NMF_4  1.340099   0.779163  0.300880   0.451536  0.000000   0.000000   \n",
      "\n",
      "              6         7          8         9   ...         40         41  \\\n",
      "NMF_0   0.000000  0.704039  10.820830  0.000000  ...   0.000000   4.686491   \n",
      "NMF_1  75.336558  0.000000   0.000000  0.000000  ...  79.179383  15.510365   \n",
      "NMF_2   0.866938  1.448899   0.188725  0.646973  ...   0.000000   0.000000   \n",
      "NMF_3   3.932294  0.897492   0.850650  3.043414  ...   0.083272   0.000000   \n",
      "NMF_4   0.000000  2.526752   0.648244  0.000000  ...   0.000000   0.180079   \n",
      "\n",
      "             42         43         44         45         46        47  \\\n",
      "NMF_0  8.494155  10.783739  15.264663   0.000000   0.000000  4.819368   \n",
      "NMF_1  2.872665   4.025984   0.040735  14.119543  29.833338  0.000000   \n",
      "NMF_2  0.000000   1.571705   0.921242   0.000000   0.000000  0.000000   \n",
      "NMF_3  0.696217   1.157814   3.557771   2.159968   1.739142  2.634916   \n",
      "NMF_4  1.431897   0.030367   0.211389   1.729980   1.448975  0.320646   \n",
      "\n",
      "              48         49  \n",
      "NMF_0   0.000000   6.956793  \n",
      "NMF_1  68.018119  16.216423  \n",
      "NMF_2   0.000000   1.098232  \n",
      "NMF_3   2.089715   0.274763  \n",
      "NMF_4   0.409102   0.000000  \n",
      "\n",
      "[5 rows x 50 columns]\n"
     ]
    }
   ],
   "source": [
    "# Print results\n",
    "print(\"W (Sample-component matrix):\")\n",
    "print(W_df.head())\n",
    "print(\"\\nH (Component-feature matrix):\")\n",
    "print(H_df.head())"
   ]
  },
  {
   "cell_type": "markdown",
   "id": "b3c0b85a",
   "metadata": {},
   "source": [
    "Results Interpretation:<br>\n",
    "+ The W_df matrix shows how each sample relates to the underlying NMF components.\n",
    "+ The H_df matrix shows the importance of each original feature (e.g., genes, metabolites, proteins) in constructing each NMF component.\n",
    "\n",
    "These decomposed matrices (W and H) can be used for further analysis like clustering, identifying latent biological factors, or associating with phenotypic data such as disease status or treatment response."
   ]
  },
  {
   "cell_type": "markdown",
   "id": "3c17b06a",
   "metadata": {},
   "source": [
    "#### Potential Use Cases for NMF in Multiomics Data:\n",
    "+ Dimensionality Reduction: Simplify complex multiomics datasets by focusing on the most important components.\n",
    "+ Pattern Discovery: Uncover hidden biological patterns across multiple omic layers, such as common pathways or gene-metabolite interactions.\n",
    "+ Feature Extraction: Identify key features (genes, proteins, metabolites) that drive biological processes or disease mechanisms.\n",
    "\n",
    "By using NMF, we can achieve a more integrative understanding of biological data, ultimately paving the way for improved disease classification, biomarker discovery, and drug response prediction.\n"
   ]
  }
 ],
 "metadata": {
  "kernelspec": {
   "display_name": "Python 3 (ipykernel)",
   "language": "python",
   "name": "python3"
  },
  "language_info": {
   "codemirror_mode": {
    "name": "ipython",
    "version": 3
   },
   "file_extension": ".py",
   "mimetype": "text/x-python",
   "name": "python",
   "nbconvert_exporter": "python",
   "pygments_lexer": "ipython3",
   "version": "3.10.6"
  }
 },
 "nbformat": 4,
 "nbformat_minor": 5
}
